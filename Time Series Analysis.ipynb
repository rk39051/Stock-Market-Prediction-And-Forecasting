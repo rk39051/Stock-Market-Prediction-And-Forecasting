{
 "cells": [
  {
   "cell_type": "code",
   "execution_count": 1,
   "metadata": {},
   "outputs": [],
   "source": [
    "#importing import library\n",
    "import pandas as pd\n",
    "import matplotlib.pyplot as plt\n",
    "import matplotlib.patches as npatches\n",
    "import numpy as np\n",
    "pd.set_option(\"max_row\",None)"
   ]
  },
  {
   "cell_type": "code",
   "execution_count": 2,
   "metadata": {},
   "outputs": [],
   "source": [
    "#loading dataset\n",
    "dataset=pd.read_csv(\"C:\\\\Users\\\\Rupesh\\\\Downloads\\\\time series analysis\\\\Stock-MArket-Forecasting-master\\\\AAPL.csv\")"
   ]
  },
  {
   "cell_type": "code",
   "execution_count": 3,
   "metadata": {},
   "outputs": [
    {
     "data": {
      "text/html": [
       "<div>\n",
       "<style scoped>\n",
       "    .dataframe tbody tr th:only-of-type {\n",
       "        vertical-align: middle;\n",
       "    }\n",
       "\n",
       "    .dataframe tbody tr th {\n",
       "        vertical-align: top;\n",
       "    }\n",
       "\n",
       "    .dataframe thead th {\n",
       "        text-align: right;\n",
       "    }\n",
       "</style>\n",
       "<table border=\"1\" class=\"dataframe\">\n",
       "  <thead>\n",
       "    <tr style=\"text-align: right;\">\n",
       "      <th></th>\n",
       "      <th>Unnamed: 0</th>\n",
       "      <th>symbol</th>\n",
       "      <th>date</th>\n",
       "      <th>close</th>\n",
       "      <th>high</th>\n",
       "      <th>low</th>\n",
       "      <th>open</th>\n",
       "      <th>volume</th>\n",
       "      <th>adjClose</th>\n",
       "      <th>adjHigh</th>\n",
       "      <th>adjLow</th>\n",
       "      <th>adjOpen</th>\n",
       "      <th>adjVolume</th>\n",
       "      <th>divCash</th>\n",
       "      <th>splitFactor</th>\n",
       "    </tr>\n",
       "  </thead>\n",
       "  <tbody>\n",
       "    <tr>\n",
       "      <th>0</th>\n",
       "      <td>0</td>\n",
       "      <td>AAPL</td>\n",
       "      <td>2015-05-27 00:00:00+00:00</td>\n",
       "      <td>132.045</td>\n",
       "      <td>132.260</td>\n",
       "      <td>130.05</td>\n",
       "      <td>130.34</td>\n",
       "      <td>45833246</td>\n",
       "      <td>121.682558</td>\n",
       "      <td>121.880685</td>\n",
       "      <td>119.844118</td>\n",
       "      <td>120.111360</td>\n",
       "      <td>45833246</td>\n",
       "      <td>0.0</td>\n",
       "      <td>1.0</td>\n",
       "    </tr>\n",
       "    <tr>\n",
       "      <th>1</th>\n",
       "      <td>1</td>\n",
       "      <td>AAPL</td>\n",
       "      <td>2015-05-28 00:00:00+00:00</td>\n",
       "      <td>131.780</td>\n",
       "      <td>131.950</td>\n",
       "      <td>131.10</td>\n",
       "      <td>131.86</td>\n",
       "      <td>30733309</td>\n",
       "      <td>121.438354</td>\n",
       "      <td>121.595013</td>\n",
       "      <td>120.811718</td>\n",
       "      <td>121.512076</td>\n",
       "      <td>30733309</td>\n",
       "      <td>0.0</td>\n",
       "      <td>1.0</td>\n",
       "    </tr>\n",
       "    <tr>\n",
       "      <th>2</th>\n",
       "      <td>2</td>\n",
       "      <td>AAPL</td>\n",
       "      <td>2015-05-29 00:00:00+00:00</td>\n",
       "      <td>130.280</td>\n",
       "      <td>131.450</td>\n",
       "      <td>129.90</td>\n",
       "      <td>131.23</td>\n",
       "      <td>50884452</td>\n",
       "      <td>120.056069</td>\n",
       "      <td>121.134251</td>\n",
       "      <td>119.705890</td>\n",
       "      <td>120.931516</td>\n",
       "      <td>50884452</td>\n",
       "      <td>0.0</td>\n",
       "      <td>1.0</td>\n",
       "    </tr>\n",
       "    <tr>\n",
       "      <th>3</th>\n",
       "      <td>3</td>\n",
       "      <td>AAPL</td>\n",
       "      <td>2015-06-01 00:00:00+00:00</td>\n",
       "      <td>130.535</td>\n",
       "      <td>131.390</td>\n",
       "      <td>130.05</td>\n",
       "      <td>131.20</td>\n",
       "      <td>32112797</td>\n",
       "      <td>120.291057</td>\n",
       "      <td>121.078960</td>\n",
       "      <td>119.844118</td>\n",
       "      <td>120.903870</td>\n",
       "      <td>32112797</td>\n",
       "      <td>0.0</td>\n",
       "      <td>1.0</td>\n",
       "    </tr>\n",
       "    <tr>\n",
       "      <th>4</th>\n",
       "      <td>4</td>\n",
       "      <td>AAPL</td>\n",
       "      <td>2015-06-02 00:00:00+00:00</td>\n",
       "      <td>129.960</td>\n",
       "      <td>130.655</td>\n",
       "      <td>129.32</td>\n",
       "      <td>129.86</td>\n",
       "      <td>33667627</td>\n",
       "      <td>119.761181</td>\n",
       "      <td>120.401640</td>\n",
       "      <td>119.171406</td>\n",
       "      <td>119.669029</td>\n",
       "      <td>33667627</td>\n",
       "      <td>0.0</td>\n",
       "      <td>1.0</td>\n",
       "    </tr>\n",
       "  </tbody>\n",
       "</table>\n",
       "</div>"
      ],
      "text/plain": [
       "   Unnamed: 0 symbol                       date    close     high     low  \\\n",
       "0           0   AAPL  2015-05-27 00:00:00+00:00  132.045  132.260  130.05   \n",
       "1           1   AAPL  2015-05-28 00:00:00+00:00  131.780  131.950  131.10   \n",
       "2           2   AAPL  2015-05-29 00:00:00+00:00  130.280  131.450  129.90   \n",
       "3           3   AAPL  2015-06-01 00:00:00+00:00  130.535  131.390  130.05   \n",
       "4           4   AAPL  2015-06-02 00:00:00+00:00  129.960  130.655  129.32   \n",
       "\n",
       "     open    volume    adjClose     adjHigh      adjLow     adjOpen  \\\n",
       "0  130.34  45833246  121.682558  121.880685  119.844118  120.111360   \n",
       "1  131.86  30733309  121.438354  121.595013  120.811718  121.512076   \n",
       "2  131.23  50884452  120.056069  121.134251  119.705890  120.931516   \n",
       "3  131.20  32112797  120.291057  121.078960  119.844118  120.903870   \n",
       "4  129.86  33667627  119.761181  120.401640  119.171406  119.669029   \n",
       "\n",
       "   adjVolume  divCash  splitFactor  \n",
       "0   45833246      0.0          1.0  \n",
       "1   30733309      0.0          1.0  \n",
       "2   50884452      0.0          1.0  \n",
       "3   32112797      0.0          1.0  \n",
       "4   33667627      0.0          1.0  "
      ]
     },
     "execution_count": 3,
     "metadata": {},
     "output_type": "execute_result"
    }
   ],
   "source": [
    "dataset.head()"
   ]
  },
  {
   "cell_type": "code",
   "execution_count": 4,
   "metadata": {},
   "outputs": [],
   "source": [
    "#selecting required feature\n",
    "data=dataset[[\"close\"]]"
   ]
  },
  {
   "cell_type": "code",
   "execution_count": 5,
   "metadata": {},
   "outputs": [
    {
     "data": {
      "text/plain": [
       "[<matplotlib.lines.Line2D at 0x14a1398d8c8>]"
      ]
     },
     "execution_count": 5,
     "metadata": {},
     "output_type": "execute_result"
    },
    {
     "data": {
      "image/png": "[encoded data removed]",
      "text/plain": [
       "<Figure size 432x288 with 1 Axes>"
      ]
     },
     "metadata": {
      "needs_background": "light"
     },
     "output_type": "display_data"
    }
   ],
   "source": [
    "plt.plot(data)"
   ]
  },
  {
   "cell_type": "code",
   "execution_count": 6,
   "metadata": {},
   "outputs": [],
   "source": [
    "#convering to array for model\n",
    "data=data.to_numpy()"
   ]
  },
  {
   "cell_type": "code",
   "execution_count": 7,
   "metadata": {},
   "outputs": [],
   "source": [
    "#function to create dependent and independent feature\n",
    "def create_database(data,steps):\n",
    "    data_X=[]\n",
    "    data_y=[]\n",
    "    for i in range(0,len(data)-steps-1):\n",
    "        temp=data[i:(i+steps),0]\n",
    "        data_X.append(temp)\n",
    "        data_y.append(data[i+steps,0])\n",
    "    return np.array(data_X),np.array(data_y)"
   ]
  },
  {
   "cell_type": "code",
   "execution_count": 8,
   "metadata": {},
   "outputs": [],
   "source": [
    "#feature scaling and reshaping 2d array having one subarray\n",
    "from sklearn.preprocessing import MinMaxScaler\n",
    "sc=MinMaxScaler(feature_range=(0,1))\n",
    "\n",
    "data=sc.fit_transform(data.reshape(-1,1))\n",
    "\n"
   ]
  },
  {
   "cell_type": "code",
   "execution_count": 9,
   "metadata": {},
   "outputs": [],
   "source": [
    "time_stamp=100\n",
    "X,y=create_database(data,time_stamp)"
   ]
  },
  {
   "cell_type": "code",
   "execution_count": 10,
   "metadata": {},
   "outputs": [],
   "source": [
    "from sklearn.model_selection import train_test_split\n",
    "X_train,X_test,y_train,y_test=train_test_split(X,y,test_size=0.2)"
   ]
  },
  {
   "cell_type": "code",
   "execution_count": 11,
   "metadata": {},
   "outputs": [
    {
     "data": {
      "text/plain": [
       "(232, 100)"
      ]
     },
     "execution_count": 11,
     "metadata": {},
     "output_type": "execute_result"
    }
   ],
   "source": [
    "X_test.shape"
   ]
  },
  {
   "cell_type": "code",
   "execution_count": 12,
   "metadata": {},
   "outputs": [
    {
     "data": {
      "text/plain": [
       "(925, 100)"
      ]
     },
     "execution_count": 12,
     "metadata": {},
     "output_type": "execute_result"
    }
   ],
   "source": [
    "X_train.shape"
   ]
  },
  {
   "cell_type": "code",
   "execution_count": 13,
   "metadata": {},
   "outputs": [],
   "source": [
    "#reshaping to 3d for lstm model\n",
    "X_train=X_train.reshape(len(X_train),100,1)\n",
    "X_test=X_test.reshape(len(X_test),100,1)"
   ]
  },
  {
   "cell_type": "code",
   "execution_count": 14,
   "metadata": {},
   "outputs": [
    {
     "name": "stderr",
     "output_type": "stream",
     "text": [
      "Using TensorFlow backend.\n"
     ]
    }
   ],
   "source": [
    "import keras"
   ]
  },
  {
   "cell_type": "code",
   "execution_count": 15,
   "metadata": {},
   "outputs": [],
   "source": [
    "from keras.layers import Dense,LSTM\n",
    "from keras.models import Sequential,load_model\n",
    "from keras.losses import mse"
   ]
  },
  {
   "cell_type": "code",
   "execution_count": 18,
   "metadata": {},
   "outputs": [],
   "source": [
    "model=Sequential()\n",
    "model.add(LSTM(100,activation=\"relu\",input_shape=(100,1),return_sequences=True))\n",
    "model.add(LSTM(units=100,activation=\"relu\",return_sequences=True))\n",
    "model.add(LSTM(units=100,activation=\"relu\"))\n",
    "model.add(Dense(units=1,activation=\"relu\"))\n",
    "model.compile(optimizer=\"adam\",loss=\"mse\",metrics=[\"accuracy\"])"
   ]
  },
  {
   "cell_type": "code",
   "execution_count": 19,
   "metadata": {},
   "outputs": [
    {
     "name": "stdout",
     "output_type": "stream",
     "text": [
      "Train on 925 samples, validate on 232 samples\n",
      "Epoch 1/10\n",
      "925/925 [==============================] - 11s 12ms/step - loss: 0.0501 - accuracy: 0.0011 - val_loss: 0.0059 - val_accuracy: 0.0000e+00\n",
      "Epoch 2/10\n",
      "925/925 [==============================] - 10s 10ms/step - loss: 0.0035 - accuracy: 0.0022 - val_loss: 0.0024 - val_accuracy: 0.0000e+00\n",
      "Epoch 3/10\n",
      "925/925 [==============================] - 10s 10ms/step - loss: 0.0021 - accuracy: 0.0022 - val_loss: 0.0020 - val_accuracy: 0.0000e+00\n",
      "Epoch 4/10\n",
      "925/925 [==============================] - 10s 10ms/step - loss: 0.0017 - accuracy: 0.0022 - val_loss: 0.0016 - val_accuracy: 0.0000e+00\n",
      "Epoch 5/10\n",
      "925/925 [==============================] - 10s 10ms/step - loss: 0.0013 - accuracy: 0.0022 - val_loss: 0.0013 - val_accuracy: 0.0000e+00\n",
      "Epoch 6/10\n",
      "925/925 [==============================] - 10s 10ms/step - loss: 0.0012 - accuracy: 0.0022 - val_loss: 0.0012 - val_accuracy: 0.0000e+00\n",
      "Epoch 7/10\n",
      "925/925 [==============================] - 10s 10ms/step - loss: 0.0011 - accuracy: 0.0022 - val_loss: 0.0017 - val_accuracy: 0.0000e+00\n",
      "Epoch 8/10\n",
      "925/925 [==============================] - 10s 10ms/step - loss: 0.0011 - accuracy: 0.0022 - val_loss: 0.0015 - val_accuracy: 0.0000e+00\n",
      "Epoch 9/10\n",
      "925/925 [==============================] - 10s 10ms/step - loss: 0.0011 - accuracy: 0.0022 - val_loss: 0.0011 - val_accuracy: 0.0000e+00\n",
      "Epoch 10/10\n",
      "925/925 [==============================] - 10s 10ms/step - loss: 0.0010 - accuracy: 0.0022 - val_loss: 9.9738e-04 - val_accuracy: 0.0000e+00\n"
     ]
    },
    {
     "data": {
      "text/plain": [
       "<keras.callbacks.callbacks.History at 0x14a20769808>"
      ]
     },
     "execution_count": 19,
     "metadata": {},
     "output_type": "execute_result"
    }
   ],
   "source": [
    "model.fit(X_train,y_train,epochs=10,batch_size=32,validation_data=(X_test,y_test))"
   ]
  },
  {
   "cell_type": "code",
   "execution_count": 20,
   "metadata": {},
   "outputs": [],
   "source": [
    "y_pred=model.predict(X_test)"
   ]
  },
  {
   "cell_type": "code",
   "execution_count": 21,
   "metadata": {},
   "outputs": [],
   "source": [
    "y_pred=sc.inverse_transform(y_pred)"
   ]
  },
  {
   "cell_type": "code",
   "execution_count": 22,
   "metadata": {},
   "outputs": [
    {
     "data": {
      "text/plain": [
       "array([[112.45753 ],\n",
       "       [236.11188 ],\n",
       "       [310.29404 ],\n",
       "       [100.41735 ],\n",
       "       [138.24329 ],\n",
       "       [178.56471 ],\n",
       "       [123.61047 ],\n",
       "       [119.07933 ],\n",
       "       [ 97.7328  ],\n",
       "       [250.44026 ],\n",
       "       [203.12256 ],\n",
       "       [163.47137 ],\n",
       "       [111.113   ],\n",
       "       [229.1356  ],\n",
       "       [188.75558 ],\n",
       "       [142.18138 ],\n",
       "       [103.96722 ],\n",
       "       [109.178825],\n",
       "       [158.30782 ],\n",
       "       [ 96.47795 ],\n",
       "       [237.1043  ],\n",
       "       [208.1507  ],\n",
       "       [181.3651  ],\n",
       "       [171.61162 ],\n",
       "       [122.98206 ],\n",
       "       [255.34862 ],\n",
       "       [111.77241 ],\n",
       "       [314.5354  ],\n",
       "       [195.08527 ],\n",
       "       [172.8582  ],\n",
       "       [206.88348 ],\n",
       "       [163.05629 ],\n",
       "       [309.09283 ],\n",
       "       [209.56554 ],\n",
       "       [111.96255 ],\n",
       "       [303.40326 ],\n",
       "       [103.05944 ],\n",
       "       [112.65177 ],\n",
       "       [202.89714 ],\n",
       "       [163.43985 ],\n",
       "       [154.9676  ],\n",
       "       [223.90079 ],\n",
       "       [146.70253 ],\n",
       "       [238.96361 ],\n",
       "       [153.78154 ],\n",
       "       [210.21964 ],\n",
       "       [143.50313 ],\n",
       "       [118.56021 ],\n",
       "       [174.11313 ],\n",
       "       [228.99011 ],\n",
       "       [186.80046 ],\n",
       "       [225.2384  ],\n",
       "       [105.025665],\n",
       "       [ 99.30036 ],\n",
       "       [226.94896 ],\n",
       "       [222.16292 ],\n",
       "       [248.49667 ],\n",
       "       [295.78802 ],\n",
       "       [211.81001 ],\n",
       "       [107.032486],\n",
       "       [319.30945 ],\n",
       "       [183.8951  ],\n",
       "       [186.49681 ],\n",
       "       [ 98.01012 ],\n",
       "       [ 99.00313 ],\n",
       "       [224.46767 ],\n",
       "       [ 99.245026],\n",
       "       [183.19185 ],\n",
       "       [108.98149 ],\n",
       "       [202.40466 ],\n",
       "       [209.03789 ],\n",
       "       [116.38878 ],\n",
       "       [171.36961 ],\n",
       "       [109.44868 ],\n",
       "       [173.6196  ],\n",
       "       [150.0503  ],\n",
       "       [120.03041 ],\n",
       "       [141.1609  ],\n",
       "       [155.69772 ],\n",
       "       [178.32614 ],\n",
       "       [174.83865 ],\n",
       "       [136.50867 ],\n",
       "       [122.481094],\n",
       "       [207.39444 ],\n",
       "       [221.25584 ],\n",
       "       [192.3643  ],\n",
       "       [174.16606 ],\n",
       "       [107.59734 ],\n",
       "       [179.5982  ],\n",
       "       [188.91747 ],\n",
       "       [177.21234 ],\n",
       "       [205.58025 ],\n",
       "       [145.6855  ],\n",
       "       [223.31456 ],\n",
       "       [192.22269 ],\n",
       "       [163.52531 ],\n",
       "       [146.42654 ],\n",
       "       [112.054306],\n",
       "       [101.35798 ],\n",
       "       [148.18074 ],\n",
       "       [171.51884 ],\n",
       "       [ 99.133934],\n",
       "       [208.90048 ],\n",
       "       [188.44627 ],\n",
       "       [117.14734 ],\n",
       "       [159.46852 ],\n",
       "       [207.13095 ],\n",
       "       [174.99886 ],\n",
       "       [111.8138  ],\n",
       "       [111.57333 ],\n",
       "       [269.88293 ],\n",
       "       [191.83138 ],\n",
       "       [156.94101 ],\n",
       "       [108.3426  ],\n",
       "       [210.00618 ],\n",
       "       [116.73672 ],\n",
       "       [118.00963 ],\n",
       "       [157.24625 ],\n",
       "       [256.8657  ],\n",
       "       [208.4081  ],\n",
       "       [159.62167 ],\n",
       "       [114.98009 ],\n",
       "       [111.741516],\n",
       "       [108.13334 ],\n",
       "       [196.12329 ],\n",
       "       [229.05891 ],\n",
       "       [194.39174 ],\n",
       "       [293.3621  ],\n",
       "       [283.32703 ],\n",
       "       [161.08492 ],\n",
       "       [240.9579  ],\n",
       "       [207.58264 ],\n",
       "       [116.02288 ],\n",
       "       [174.56534 ],\n",
       "       [115.904915],\n",
       "       [273.8526  ],\n",
       "       [109.5433  ],\n",
       "       [ 97.89239 ],\n",
       "       [118.71297 ],\n",
       "       [118.406746],\n",
       "       [207.55196 ],\n",
       "       [ 99.71783 ],\n",
       "       [299.11115 ],\n",
       "       [289.90732 ],\n",
       "       [159.9453  ],\n",
       "       [225.24225 ],\n",
       "       [ 98.04283 ],\n",
       "       [119.240524],\n",
       "       [310.0353  ],\n",
       "       [173.99222 ],\n",
       "       [170.9245  ],\n",
       "       [205.92212 ],\n",
       "       [174.89348 ],\n",
       "       [107.39543 ],\n",
       "       [151.94939 ],\n",
       "       [292.27838 ],\n",
       "       [100.76836 ],\n",
       "       [156.0087  ],\n",
       "       [211.20996 ],\n",
       "       [ 96.962814],\n",
       "       [227.59117 ],\n",
       "       [181.36981 ],\n",
       "       [118.81599 ],\n",
       "       [231.5784  ],\n",
       "       [252.93332 ],\n",
       "       [ 98.540535],\n",
       "       [100.711235],\n",
       "       [117.81288 ],\n",
       "       [166.92532 ],\n",
       "       [ 99.40703 ],\n",
       "       [108.83402 ],\n",
       "       [246.05717 ],\n",
       "       [102.55744 ],\n",
       "       [230.19312 ],\n",
       "       [144.82814 ],\n",
       "       [200.45764 ],\n",
       "       [147.83908 ],\n",
       "       [205.77022 ],\n",
       "       [170.04288 ],\n",
       "       [226.30432 ],\n",
       "       [208.8462  ],\n",
       "       [112.05781 ],\n",
       "       [285.1838  ],\n",
       "       [152.994   ],\n",
       "       [173.22763 ],\n",
       "       [175.23721 ],\n",
       "       [181.56023 ],\n",
       "       [268.9882  ],\n",
       "       [264.29266 ],\n",
       "       [161.80153 ],\n",
       "       [184.6391  ],\n",
       "       [163.58788 ],\n",
       "       [175.492   ],\n",
       "       [156.19998 ],\n",
       "       [157.85722 ],\n",
       "       [233.0461  ],\n",
       "       [174.93492 ],\n",
       "       [120.64002 ],\n",
       "       [181.39462 ],\n",
       "       [145.38747 ],\n",
       "       [177.53552 ],\n",
       "       [118.59167 ],\n",
       "       [111.6069  ],\n",
       "       [153.9965  ],\n",
       "       [107.67955 ],\n",
       "       [211.07152 ],\n",
       "       [176.85573 ],\n",
       "       [175.02174 ],\n",
       "       [296.88663 ],\n",
       "       [150.14862 ],\n",
       "       [110.73128 ],\n",
       "       [173.74559 ],\n",
       "       [166.31975 ],\n",
       "       [105.39494 ],\n",
       "       [172.66579 ],\n",
       "       [117.092094],\n",
       "       [199.66864 ],\n",
       "       [160.56766 ],\n",
       "       [180.22449 ],\n",
       "       [116.27    ],\n",
       "       [145.12917 ],\n",
       "       [204.99031 ],\n",
       "       [252.07857 ],\n",
       "       [210.77939 ],\n",
       "       [229.0543  ],\n",
       "       [287.6833  ],\n",
       "       [175.1418  ],\n",
       "       [152.71451 ],\n",
       "       [176.08344 ],\n",
       "       [228.22183 ],\n",
       "       [108.67746 ],\n",
       "       [156.35027 ]], dtype=float32)"
      ]
     },
     "execution_count": 22,
     "metadata": {},
     "output_type": "execute_result"
    }
   ],
   "source": [
    "#predicted value\n",
    "y_pred"
   ]
  },
  {
   "cell_type": "code",
   "execution_count": 23,
   "metadata": {},
   "outputs": [
    {
     "data": {
      "text/plain": [
       "array([[115.19],\n",
       "       [239.96],\n",
       "       [313.05],\n",
       "       [ 96.67],\n",
       "       [138.96],\n",
       "       [166.97],\n",
       "       [130.29],\n",
       "       [118.88],\n",
       "       [ 99.86],\n",
       "       [257.5 ],\n",
       "       [183.09],\n",
       "       [158.73],\n",
       "       [107.57],\n",
       "       [217.36],\n",
       "       [188.72],\n",
       "       [140.92],\n",
       "       [ 94.19],\n",
       "       [107.7 ],\n",
       "       [160.95],\n",
       "       [ 99.62],\n",
       "       [254.29],\n",
       "       [204.16],\n",
       "       [168.85],\n",
       "       [176.57],\n",
       "       [129.08],\n",
       "       [259.43],\n",
       "       [107.48],\n",
       "       [320.03],\n",
       "       [201.5 ],\n",
       "       [172.22],\n",
       "       [190.08],\n",
       "       [157.74],\n",
       "       [307.71],\n",
       "       [188.66],\n",
       "       [113.95],\n",
       "       [310.33],\n",
       "       [105.87],\n",
       "       [115.28],\n",
       "       [176.98],\n",
       "       [171.85],\n",
       "       [154.68],\n",
       "       [219.8 ],\n",
       "       [142.73],\n",
       "       [241.41],\n",
       "       [153.06],\n",
       "       [205.7 ],\n",
       "       [143.7 ],\n",
       "       [118.3 ],\n",
       "       [162.32],\n",
       "       [223.84],\n",
       "       [187.63],\n",
       "       [222.73],\n",
       "       [106.72],\n",
       "       [ 97.92],\n",
       "       [218.33],\n",
       "       [213.3 ],\n",
       "       [246.88],\n",
       "       [298.81],\n",
       "       [186.8 ],\n",
       "       [107.68],\n",
       "       [319.23],\n",
       "       [178.58],\n",
       "       [198.45],\n",
       "       [ 96.87],\n",
       "       [ 96.6 ],\n",
       "       [225.74],\n",
       "       [ 99.99],\n",
       "       [186.99],\n",
       "       [109.81],\n",
       "       [207.53],\n",
       "       [208.48],\n",
       "       [117.26],\n",
       "       [170.05],\n",
       "       [110.96],\n",
       "       [176.82],\n",
       "       [153.46],\n",
       "       [120.57],\n",
       "       [138.99],\n",
       "       [153.31],\n",
       "       [166.48],\n",
       "       [170.15],\n",
       "       [136.93],\n",
       "       [128.53],\n",
       "       [206.49],\n",
       "       [227.63],\n",
       "       [193.46],\n",
       "       [169.37],\n",
       "       [111.77],\n",
       "       [179.97],\n",
       "       [191.45],\n",
       "       [167.78],\n",
       "       [203.3 ],\n",
       "       [141.05],\n",
       "       [216.3 ],\n",
       "       [193.31],\n",
       "       [170.41],\n",
       "       [149.56],\n",
       "       [113.3 ],\n",
       "       [106.05],\n",
       "       [153.95],\n",
       "       [178.24],\n",
       "       [ 94.48],\n",
       "       [208.78],\n",
       "       [183.92],\n",
       "       [108.84],\n",
       "       [153.28],\n",
       "       [202.75],\n",
       "       [173.15],\n",
       "       [107.11],\n",
       "       [112.71],\n",
       "       [275.15],\n",
       "       [174.24],\n",
       "       [159.85],\n",
       "       [103.13],\n",
       "       [208.43],\n",
       "       [117.06],\n",
       "       [111.59],\n",
       "       [154.48],\n",
       "       [284.43],\n",
       "       [209.68],\n",
       "       [157.5 ],\n",
       "       [110.88],\n",
       "       [109.95],\n",
       "       [109.99],\n",
       "       [195.57],\n",
       "       [214.45],\n",
       "       [178.97],\n",
       "       [293.8 ],\n",
       "       [289.8 ],\n",
       "       [153.14],\n",
       "       [246.58],\n",
       "       [193.53],\n",
       "       [117.47],\n",
       "       [169.32],\n",
       "       [116.52],\n",
       "       [266.17],\n",
       "       [111.57],\n",
       "       [ 97.42],\n",
       "       [116.17],\n",
       "       [120.92],\n",
       "       [207.02],\n",
       "       [ 98.63],\n",
       "       [303.19],\n",
       "       [300.35],\n",
       "       [169.04],\n",
       "       [218.82],\n",
       "       [ 94.99],\n",
       "       [121.06],\n",
       "       [323.62],\n",
       "       [171.1 ],\n",
       "       [173.25],\n",
       "       [212.46],\n",
       "       [174.29],\n",
       "       [109.56],\n",
       "       [148.73],\n",
       "       [287.73],\n",
       "       [ 98.83],\n",
       "       [166.44],\n",
       "       [197.  ],\n",
       "       [ 90.52],\n",
       "       [216.02],\n",
       "       [194.15],\n",
       "       [118.03],\n",
       "       [235.28],\n",
       "       [287.05],\n",
       "       [ 96.69],\n",
       "       [ 95.1 ],\n",
       "       [116.15],\n",
       "       [170.89],\n",
       "       [ 99.44],\n",
       "       [108.36],\n",
       "       [243.26],\n",
       "       [ 93.24],\n",
       "       [234.37],\n",
       "       [143.34],\n",
       "       [203.13],\n",
       "       [143.68],\n",
       "       [209.75],\n",
       "       [173.97],\n",
       "       [227.03],\n",
       "       [200.48],\n",
       "       [106.82],\n",
       "       [302.74],\n",
       "       [153.07],\n",
       "       [190.04],\n",
       "       [169.64],\n",
       "       [171.27],\n",
       "       [266.29],\n",
       "       [262.64],\n",
       "       [150.55],\n",
       "       [193.89],\n",
       "       [158.63],\n",
       "       [169.8 ],\n",
       "       [148.98],\n",
       "       [156.25],\n",
       "       [236.41],\n",
       "       [188.59],\n",
       "       [121.88],\n",
       "       [175.3 ],\n",
       "       [142.44],\n",
       "       [167.78],\n",
       "       [119.03],\n",
       "       [113.76],\n",
       "       [152.29],\n",
       "       [108.18],\n",
       "       [213.26],\n",
       "       [177.  ],\n",
       "       [176.67],\n",
       "       [298.39],\n",
       "       [146.28],\n",
       "       [109.02],\n",
       "       [171.61],\n",
       "       [156.15],\n",
       "       [ 95.18],\n",
       "       [160.89],\n",
       "       [116.6 ],\n",
       "       [199.25],\n",
       "       [159.78],\n",
       "       [185.22],\n",
       "       [107.33],\n",
       "       [143.17],\n",
       "       [203.23],\n",
       "       [224.37],\n",
       "       [213.28],\n",
       "       [218.24],\n",
       "       [293.65],\n",
       "       [173.03],\n",
       "       [154.94],\n",
       "       [172.5 ],\n",
       "       [221.19],\n",
       "       [105.35],\n",
       "       [153.18]])"
      ]
     },
     "execution_count": 23,
     "metadata": {},
     "output_type": "execute_result"
    }
   ],
   "source": [
    "#actual value\n",
    "sc.inverse_transform(y_test.reshape(-1,1))"
   ]
  },
  {
   "cell_type": "code",
   "execution_count": 24,
   "metadata": {},
   "outputs": [
    {
     "data": {
      "text/plain": [
       "(1258, 1)"
      ]
     },
     "execution_count": 24,
     "metadata": {},
     "output_type": "execute_result"
    }
   ],
   "source": [
    "data.shape"
   ]
  },
  {
   "cell_type": "code",
   "execution_count": 25,
   "metadata": {},
   "outputs": [],
   "source": [
    "#predicting 100 future value\n",
    "from numpy import array\n",
    "x_dataset=data[1158:len(data),:].reshape(1,-1)"
   ]
  },
  {
   "cell_type": "code",
   "execution_count": 26,
   "metadata": {},
   "outputs": [
    {
     "data": {
      "text/plain": [
       "array([[0.85835515, 0.8866419 , 0.87431394, 0.88431985, 0.87836697,\n",
       "        0.8986321 , 0.92582116, 0.92877649, 0.95676771, 0.93869797,\n",
       "        0.93304061, 0.94950604, 0.96424048, 0.95512117, 0.95989192,\n",
       "        0.96635143, 0.96246728, 0.92295027, 0.9598497 , 0.98792536,\n",
       "        0.98594106, 0.92531453, 0.92172591, 0.96474711, 0.97572406,\n",
       "        0.99159841, 0.96972895, 0.97614625, 0.96795575, 1.        ,\n",
       "        0.99016297, 0.99050072, 0.96538039, 0.98488559, 0.97086887,\n",
       "        0.94026007, 0.87748037, 0.83483915, 0.85413324, 0.77336823,\n",
       "        0.77269273, 0.88014017, 0.84007431, 0.89673225, 0.85527316,\n",
       "        0.83884995, 0.74233725, 0.82327113, 0.78143207, 0.6665963 ,\n",
       "        0.7921557 , 0.64118044, 0.68614371, 0.66001013, 0.65203074,\n",
       "        0.58642236, 0.56586169, 0.66089673, 0.65515494, 0.70970193,\n",
       "        0.66452757, 0.69437642, 0.69218104, 0.63569197, 0.65266402,\n",
       "        0.63780292, 0.7267162 , 0.71388162, 0.74191506, 0.75002111,\n",
       "        0.77222832, 0.83049059, 0.8194292 , 0.8289707 , 0.8125475 ,\n",
       "        0.78776492, 0.75162543, 0.78426074, 0.77974331, 0.81326522,\n",
       "        0.8141096 , 0.79473106, 0.83336148, 0.85898843, 0.83901883,\n",
       "        0.85628641, 0.87486279, 0.88782403, 0.90095415, 0.92793211,\n",
       "        0.948535  , 0.93333615, 0.91746179, 0.92544119, 0.91771511,\n",
       "        0.9483239 , 0.94064004, 0.96635143, 0.9563033 , 0.96491598]])"
      ]
     },
     "execution_count": 26,
     "metadata": {},
     "output_type": "execute_result"
    }
   ],
   "source": [
    "x_dataset"
   ]
  },
  {
   "cell_type": "code",
   "execution_count": 27,
   "metadata": {},
   "outputs": [
    {
     "data": {
      "text/plain": [
       "(1, 100)"
      ]
     },
     "execution_count": 27,
     "metadata": {},
     "output_type": "execute_result"
    }
   ],
   "source": [
    "x_dataset.shape"
   ]
  },
  {
   "cell_type": "code",
   "execution_count": 28,
   "metadata": {},
   "outputs": [],
   "source": [
    "future_dataset=x_dataset[0].tolist()"
   ]
  },
  {
   "cell_type": "code",
   "execution_count": 29,
   "metadata": {},
   "outputs": [],
   "source": [
    "#prediction\n",
    "future_pred=[]\n",
    "for i in range(100):\n",
    "    if(len(future_dataset)>100):\n",
    "        temp=np.array(future_dataset[1:]).reshape(1,-1)\n",
    "        pred=model.predict(temp.reshape(1,100,1),verbose=0)\n",
    "        future_dataset.extend(np.array(pred[0]))\n",
    "        future_dataset=future_dataset[1:]\n",
    "        future_pred.extend(pred[0])\n",
    "    else:\n",
    "        temp=x_dataset.reshape(1,100,1)\n",
    "        pred=model.predict(temp)\n",
    "        future_dataset.extend(np.array(pred[0]))\n",
    "        future_pred.extend(pred[0])\n",
    "        "
   ]
  },
  {
   "cell_type": "code",
   "execution_count": null,
   "metadata": {},
   "outputs": [],
   "source": []
  },
  {
   "cell_type": "code",
   "execution_count": 30,
   "metadata": {},
   "outputs": [],
   "source": [
    "prediction=sc.inverse_transform(np.array(future_pred).reshape(-1,1))"
   ]
  },
  {
   "cell_type": "code",
   "execution_count": 31,
   "metadata": {},
   "outputs": [
    {
     "data": {
      "text/plain": [
       "array([[318.8656 ],\n",
       "       [319.851  ],\n",
       "       [320.6203 ],\n",
       "       [321.1732 ],\n",
       "       [321.5122 ],\n",
       "       [321.63968],\n",
       "       [321.5571 ],\n",
       "       [321.2648 ],\n",
       "       [320.76163],\n",
       "       [320.04584],\n",
       "       [319.1209 ],\n",
       "       [317.9886 ],\n",
       "       [316.64935],\n",
       "       [315.10565],\n",
       "       [313.36237],\n",
       "       [311.42734],\n",
       "       [309.31134],\n",
       "       [307.02283],\n",
       "       [304.579  ],\n",
       "       [302.00143],\n",
       "       [299.3136 ],\n",
       "       [296.5378 ],\n",
       "       [293.69778],\n",
       "       [290.82166],\n",
       "       [287.93686],\n",
       "       [285.0625 ],\n",
       "       [282.22226],\n",
       "       [279.44247],\n",
       "       [276.75003],\n",
       "       [274.16437],\n",
       "       [271.70145],\n",
       "       [269.3746 ],\n",
       "       [267.19415],\n",
       "       [265.1677 ],\n",
       "       [263.30026],\n",
       "       [261.59512],\n",
       "       [260.05325],\n",
       "       [258.67398],\n",
       "       [257.45532],\n",
       "       [256.394  ],\n",
       "       [255.4854 ],\n",
       "       [254.72447],\n",
       "       [254.10489],\n",
       "       [253.6208 ],\n",
       "       [253.26558],\n",
       "       [253.03246],\n",
       "       [252.91098],\n",
       "       [252.8947 ],\n",
       "       [252.97838],\n",
       "       [253.15791],\n",
       "       [253.42647],\n",
       "       [253.77715],\n",
       "       [254.20393],\n",
       "       [254.69313],\n",
       "       [255.23952],\n",
       "       [255.83902],\n",
       "       [256.48813],\n",
       "       [257.18295],\n",
       "       [257.92014],\n",
       "       [258.69638],\n",
       "       [259.50824],\n",
       "       [260.35297],\n",
       "       [261.22742],\n",
       "       [262.12894],\n",
       "       [263.05508],\n",
       "       [264.00333],\n",
       "       [264.97162],\n",
       "       [265.95786],\n",
       "       [266.9604 ],\n",
       "       [267.97754],\n",
       "       [269.00775],\n",
       "       [270.04962],\n",
       "       [271.10178],\n",
       "       [272.1631 ],\n",
       "       [273.23218],\n",
       "       [274.30798],\n",
       "       [275.3894 ],\n",
       "       [276.47516],\n",
       "       [277.56418],\n",
       "       [278.65524],\n",
       "       [279.74612],\n",
       "       [280.83218],\n",
       "       [281.91202],\n",
       "       [282.9838 ],\n",
       "       [284.04623],\n",
       "       [285.0976 ],\n",
       "       [286.1362 ],\n",
       "       [287.16013],\n",
       "       [288.1674 ],\n",
       "       [289.15588],\n",
       "       [290.12332],\n",
       "       [291.06763],\n",
       "       [291.98642],\n",
       "       [292.8773 ],\n",
       "       [293.73788],\n",
       "       [294.56567],\n",
       "       [295.35828],\n",
       "       [296.1132 ],\n",
       "       [296.82797],\n",
       "       [297.50006]], dtype=float32)"
      ]
     },
     "execution_count": 31,
     "metadata": {},
     "output_type": "execute_result"
    }
   ],
   "source": [
    "prediction"
   ]
  },
  {
   "cell_type": "code",
   "execution_count": 32,
   "metadata": {},
   "outputs": [],
   "source": [
    "prev_day=np.arange(1,1259)\n",
    "pred_day=np.arange(1258,1358)"
   ]
  },
  {
   "cell_type": "code",
   "execution_count": 34,
   "metadata": {},
   "outputs": [
    {
     "data": {
      "image/png": "[encoded data removed]",
      "text/plain": [
       "<Figure size 432x288 with 1 Axes>"
      ]
     },
     "metadata": {
      "needs_background": "light"
     },
     "output_type": "display_data"
    }
   ],
   "source": [
    "plt.plot(prev_day,sc.inverse_transform(data),color='blue')\n",
    "plt.plot(pred_day,prediction,color='red')\n",
    "blue_pach=npatches.Patch(color='blue',label=\"real stock\")\n",
    "red_patch=npatches.Patch(color='red',label=\"predicted stock\")\n",
    "plt.grid(True)\n",
    "plt.legend(handles=[red_patch,blue_pach])\n",
    "plt.show()"
   ]
  },
  {
   "cell_type": "code",
   "execution_count": null,
   "metadata": {},
   "outputs": [],
   "source": []
  }
 ],
 "metadata": {
  "kernelspec": {
   "display_name": "Python 3",
   "language": "python",
   "name": "python3"
  },
  "language_info": {
   "codemirror_mode": {
    "name": "ipython",
    "version": 3
   },
   "file_extension": ".py",
   "mimetype": "text/x-python",
   "name": "python",
   "nbconvert_exporter": "python",
   "pygments_lexer": "ipython3",
   "version": "3.7.6"
  }
 },
 "nbformat": 4,
 "nbformat_minor": 4
}
